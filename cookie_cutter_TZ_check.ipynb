{
 "cells": [
  {
   "cell_type": "markdown",
   "metadata": {},
   "source": [
    "## Cookie cutter TZ check\n",
    "\n",
    "The goal of this notebook is to provide an example of how to scrape NEXRAD level II data and use pyart and csu_radar_tools to calculate radar rainfall estimates at rain gage locations during a storm. In this example we are using this \n",
    "\n",
    "  1. Read storm csv\n",
    "  2. Find available NEXRAD data\n",
    "  2. Download NEXRAD data\n",
    "  4. Mask bad data\n",
    "  7. Compute rainfall estimate\n",
    "  9. Pull out rainfall estimates at gage locations\n",
    "  9. Plot mean of gage and radar against time\n",
    "  10. Change time offset to decipher which time zone gage data are in. "
   ]
  },
  {
   "cell_type": "markdown",
   "metadata": {},
   "source": [
    "Before getting started, set up your environment with all the necessities to run this notebook. To create this environment just run **`$ conda env create -f environment.yml`** where **`environment.yml`** is a file containing the following:"
   ]
  },
  {
   "cell_type": "code",
   "execution_count": 1,
   "metadata": {
    "collapsed": false
   },
   "outputs": [
    {
     "name": "stdout",
     "output_type": "stream",
     "text": [
      "name: radar\n",
      "channels:\n",
      "- conda-forge\n",
      "- defaults\n",
      "dependencies:\n",
      "- python=2.7\n",
      "- arm_pyart\n",
      "- basemap\n",
      "- basemap-data-hires\n",
      "- matplotlib\n",
      "- jupyter\n",
      "- pandas\n",
      "- numpy\n",
      "- cython\n",
      "- wget\n",
      "- lxml\n",
      "- pip:\n",
      "  - skewt\n",
      "  - git+git://github.com/CSU-Radarmet/CSU_RadarTools.git\n"
     ]
    }
   ],
   "source": [
    "!cat environment.yml"
   ]
  },
  {
   "cell_type": "markdown",
   "metadata": {},
   "source": [
    "## Mock rain gage data"
   ]
  },
  {
   "cell_type": "code",
   "execution_count": 2,
   "metadata": {
    "collapsed": true
   },
   "outputs": [],
   "source": [
    "import numpy as np\n",
    "import pandas as pd\n",
    "import xarray as xr"
   ]
  },
  {
   "cell_type": "code",
   "execution_count": 3,
   "metadata": {
    "collapsed": true
   },
   "outputs": [],
   "source": [
    "ID='KLWX'\n",
    "latitude = 38.970\n",
    "longitude = -77.473\n",
    "\n",
    "year=2015\n",
    "month=11\n",
    "day=19\n",
    "hour=16\n",
    "\n",
    "t_start = '2015-11-19 16:00'\n",
    "t_end = '2015-11-19 23:00'"
   ]
  },
  {
   "cell_type": "markdown",
   "metadata": {},
   "source": [
    "## Find Available Data\n",
    "\n",
    "First we will see what data are available for the date and site that we are interested in. "
   ]
  },
  {
   "cell_type": "code",
   "execution_count": 4,
   "metadata": {
    "collapsed": false
   },
   "outputs": [],
   "source": [
    "Y = '{Y:04d}'.format(Y=year)\n",
    "M = '{M:02d}'.format(M=month)\n",
    "D = '{D:02d}'.format(D=day)\n",
    "\n",
    "url = 'http://www.ncdc.noaa.gov/nexradinv/bdp-download.jsp?id={ID}&yyyy={Y}&mm={M}&dd={D}&product=AAL2'.format(\n",
    "       ID=ID, Y=Y, M=M, D=D)"
   ]
  },
  {
   "cell_type": "code",
   "execution_count": 5,
   "metadata": {
    "collapsed": false
   },
   "outputs": [
    {
     "name": "stdout",
     "output_type": "stream",
     "text": [
      "CPU times: user 17.9 ms, sys: 6.71 ms, total: 24.6 ms\n",
      "Wall time: 1.26 s\n"
     ]
    }
   ],
   "source": [
    "%%time\n",
    "from lxml.html import parse\n",
    "\n",
    "page = parse(url)\n",
    "data_urls = [el.find(\"a\").get(\"href\") for el in page.xpath(\"//div[@class='bdpLink']\")]\n",
    "filenames = [data_url.split('/')[-1] for data_url in data_urls]\n",
    "times = pd.DatetimeIndex([pd.Timestamp(fn[4:19].replace('_', ' ')) for fn in filenames])"
   ]
  },
  {
   "cell_type": "code",
   "execution_count": 6,
   "metadata": {
    "collapsed": true
   },
   "outputs": [],
   "source": [
    "t0 = times.asof(pd.Timestamp(t_start))\n",
    "tn = times.asof(pd.Timestamp(t_end))\n",
    "\n",
    "data_urls = data_urls[times.get_loc(t0): times.get_loc(tn)]\n",
    "filenames = filenames[times.get_loc(t0): times.get_loc(tn)]\n",
    "\n",
    "nscans = len(filenames)"
   ]
  },
  {
   "cell_type": "markdown",
   "metadata": {},
   "source": [
    "## Download Data\n",
    "\n",
    "Now that you have a valid data_url, all that is left is downloading the data."
   ]
  },
  {
   "cell_type": "code",
   "execution_count": 7,
   "metadata": {
    "collapsed": false
   },
   "outputs": [
    {
     "name": "stdout",
     "output_type": "stream",
     "text": [
      "CPU times: user 1 µs, sys: 2 µs, total: 3 µs\n",
      "Wall time: 5.01 µs\n"
     ]
    }
   ],
   "source": [
    "%%time\n",
    "\n",
    "def get_datafile(data_url, filename, cache='./tmp/'):\n",
    "    import os\n",
    "    import wget\n",
    "\n",
    "    if not os.path.isdir(cache):\n",
    "        os.mkdir(cache)\n",
    "\n",
    "    if os.path.isfile(cache+filename):\n",
    "        print('using cached file ...')\n",
    "        path_to_file = cache+filename\n",
    "    else:\n",
    "        print('downloading file ...')\n",
    "        path_to_file = wget.download(data_url, out=cache+filename)\n",
    "    print(path_to_file)\n",
    "    return path_to_file"
   ]
  },
  {
   "cell_type": "code",
   "execution_count": 8,
   "metadata": {
    "collapsed": false
   },
   "outputs": [
    {
     "name": "stdout",
     "output_type": "stream",
     "text": [
      "downloading file ...\n",
      "./tmp/KLWX20151119_155848_V06.gz\n",
      "downloading file ...\n",
      "./tmp/KLWX20151119_160345_V06.gz\n",
      "downloading file ...\n",
      "./tmp/KLWX20151119_160842_V06.gz\n",
      "downloading file ...\n",
      "./tmp/KLWX20151119_161339_V06.gz\n",
      "downloading file ...\n",
      "./tmp/KLWX20151119_161837_V06.gz\n",
      "downloading file ...\n",
      "./tmp/KLWX20151119_162333_V06.gz\n",
      "downloading file ...\n",
      "./tmp/KLWX20151119_162831_V06.gz\n",
      "downloading file ...\n",
      "./tmp/KLWX20151119_163328_V06.gz\n",
      "downloading file ...\n",
      "./tmp/KLWX20151119_163825_V06.gz\n",
      "downloading file ...\n",
      "./tmp/KLWX20151119_164323_V06.gz\n",
      "downloading file ...\n",
      "./tmp/KLWX20151119_164820_V06.gz\n",
      "downloading file ...\n",
      "./tmp/KLWX20151119_165317_V06.gz\n",
      "downloading file ...\n",
      "./tmp/KLWX20151119_165815_V06.gz\n",
      "downloading file ...\n",
      "./tmp/KLWX20151119_170312_V06.gz\n",
      "downloading file ...\n",
      "./tmp/KLWX20151119_170810_V06.gz\n",
      "downloading file ...\n",
      "./tmp/KLWX20151119_171334_V06.gz\n",
      "downloading file ...\n",
      "./tmp/KLWX20151119_171925_V06.gz\n",
      "downloading file ...\n",
      "./tmp/KLWX20151119_172450_V06.gz\n",
      "downloading file ...\n",
      "./tmp/KLWX20151119_173041_V06.gz\n",
      "downloading file ...\n",
      "./tmp/KLWX20151119_173634_V06.gz\n",
      "downloading file ...\n",
      "./tmp/KLWX20151119_174226_V06.gz\n",
      "downloading file ...\n",
      "./tmp/KLWX20151119_174819_V06.gz\n",
      "downloading file ...\n",
      "./tmp/KLWX20151119_175411_V06.gz\n",
      "downloading file ...\n",
      "./tmp/KLWX20151119_180003_V06.gz\n",
      "downloading file ...\n",
      "./tmp/KLWX20151119_180555_V06.gz\n",
      "downloading file ...\n",
      "./tmp/KLWX20151119_181147_V06.gz\n",
      "downloading file ...\n",
      "./tmp/KLWX20151119_181739_V06.gz\n",
      "downloading file ...\n",
      "./tmp/KLWX20151119_182330_V06.gz\n",
      "downloading file ...\n",
      "./tmp/KLWX20151119_182923_V06.gz\n",
      "downloading file ...\n",
      "./tmp/KLWX20151119_183514_V06.gz\n",
      "downloading file ...\n",
      "./tmp/KLWX20151119_184038_V06.gz\n",
      "downloading file ...\n",
      "./tmp/KLWX20151119_184602_V06.gz\n",
      "downloading file ...\n",
      "./tmp/KLWX20151119_185127_V06.gz\n",
      "downloading file ...\n",
      "./tmp/KLWX20151119_185652_V06.gz\n",
      "downloading file ...\n",
      "./tmp/KLWX20151119_190216_V06.gz\n",
      "downloading file ...\n",
      "./tmp/KLWX20151119_190739_V06.gz\n",
      "downloading file ...\n",
      "./tmp/KLWX20151119_191304_V06.gz\n",
      "downloading file ...\n",
      "./tmp/KLWX20151119_191855_V06.gz\n",
      "downloading file ...\n",
      "./tmp/KLWX20151119_192420_V06.gz\n",
      "downloading file ...\n",
      "./tmp/KLWX20151119_192944_V06.gz\n",
      "downloading file ...\n",
      "./tmp/KLWX20151119_193508_V06.gz\n",
      "downloading file ...\n",
      "./tmp/KLWX20151119_194101_V06.gz\n",
      "downloading file ...\n",
      "./tmp/KLWX20151119_194653_V06.gz\n",
      "downloading file ...\n",
      "./tmp/KLWX20151119_195246_V06.gz\n",
      "downloading file ...\n",
      "./tmp/KLWX20151119_195837_V06.gz\n",
      "downloading file ...\n",
      "./tmp/KLWX20151119_200428_V06.gz\n",
      "downloading file ...\n",
      "./tmp/KLWX20151119_200952_V06.gz\n",
      "downloading file ...\n",
      "./tmp/KLWX20151119_201516_V06.gz\n",
      "downloading file ...\n",
      "./tmp/KLWX20151119_202041_V06.gz\n",
      "downloading file ...\n",
      "./tmp/KLWX20151119_202605_V06.gz\n",
      "downloading file ...\n",
      "./tmp/KLWX20151119_203129_V06.gz\n",
      "downloading file ...\n",
      "./tmp/KLWX20151119_203654_V06.gz\n",
      "downloading file ...\n",
      "./tmp/KLWX20151119_204217_V06.gz\n",
      "downloading file ...\n",
      "./tmp/KLWX20151119_204741_V06.gz\n",
      "downloading file ...\n",
      "./tmp/KLWX20151119_205238_V06.gz\n",
      "downloading file ...\n",
      "./tmp/KLWX20151119_205735_V06.gz\n",
      "downloading file ...\n",
      "./tmp/KLWX20151119_210233_V06.gz\n",
      "downloading file ...\n",
      "./tmp/KLWX20151119_210730_V06.gz\n",
      "downloading file ...\n",
      "./tmp/KLWX20151119_211227_V06.gz\n",
      "downloading file ...\n",
      "./tmp/KLWX20151119_211724_V06.gz\n",
      "downloading file ...\n",
      "./tmp/KLWX20151119_212221_V06.gz\n",
      "downloading file ...\n",
      "./tmp/KLWX20151119_212719_V06.gz\n",
      "downloading file ...\n",
      "./tmp/KLWX20151119_213217_V06.gz\n",
      "downloading file ...\n",
      "./tmp/KLWX20151119_213713_V06.gz\n",
      "downloading file ...\n",
      "./tmp/KLWX20151119_214211_V06.gz\n",
      "downloading file ...\n",
      "./tmp/KLWX20151119_214708_V06.gz\n",
      "downloading file ...\n",
      "./tmp/KLWX20151119_215205_V06.gz\n",
      "downloading file ...\n",
      "./tmp/KLWX20151119_215703_V06.gz\n",
      "downloading file ...\n",
      "./tmp/KLWX20151119_220200_V06.gz\n",
      "downloading file ...\n",
      "./tmp/KLWX20151119_220906_V06.gz\n",
      "downloading file ...\n",
      "./tmp/KLWX20151119_221404_V06.gz\n",
      "downloading file ...\n",
      "./tmp/KLWX20151119_221901_V06.gz\n",
      "downloading file ...\n",
      "./tmp/KLWX20151119_222358_V06.gz\n",
      "downloading file ...\n",
      "./tmp/KLWX20151119_222856_V06.gz\n",
      "downloading file ...\n",
      "./tmp/KLWX20151119_223353_V06.gz\n",
      "downloading file ...\n",
      "./tmp/KLWX20151119_223851_V06.gz\n",
      "downloading file ...\n",
      "./tmp/KLWX20151119_224348_V06.gz\n",
      "downloading file ...\n",
      "./tmp/KLWX20151119_224845_V06.gz\n",
      "downloading file ...\n",
      "./tmp/KLWX20151119_225343_V06.gz\n",
      "CPU times: user 1.57 s, sys: 909 ms, total: 2.48 s\n",
      "Wall time: 46.4 s\n"
     ]
    }
   ],
   "source": [
    "%%time\n",
    "\n",
    "if nscans > 100:\n",
    "    print('Do you really intend to process >100 files?')\n",
    "else:\n",
    "    paths = []\n",
    "    for data_url, filename in zip(data_urls, filenames):\n",
    "        paths.append(get_datafile(data_url, filename))"
   ]
  },
  {
   "cell_type": "markdown",
   "metadata": {},
   "source": [
    "## Read data and calculate rainfall"
   ]
  },
  {
   "cell_type": "code",
   "execution_count": 9,
   "metadata": {
    "collapsed": true
   },
   "outputs": [],
   "source": [
    "import pyproj\n",
    "import pyart\n",
    "from skewt import SkewT\n",
    "from csu_radartools import csu_fhc, csu_blended_rain, csu_dsd, csu_kdp"
   ]
  },
  {
   "cell_type": "code",
   "execution_count": 10,
   "metadata": {
    "collapsed": true
   },
   "outputs": [],
   "source": [
    "gage_df = pd.read_csv('./storm_gage.csv', index_col=0)\n",
    "\n",
    "gage_names = gage_df.index\n",
    "\n",
    "mean_gage = gage_df.iloc[:, 2:].mean(axis=0)\n",
    "mean_gage.index = mean_gage.index.to_datetime()\n",
    "mean_gage.name = 'gage'"
   ]
  },
  {
   "cell_type": "markdown",
   "metadata": {},
   "source": [
    "## Run\n",
    "First you need to run all the functions in the [last cell](#Functions), then you can process all the radar files"
   ]
  },
  {
   "cell_type": "code",
   "execution_count": 13,
   "metadata": {
    "collapsed": false
   },
   "outputs": [
    {
     "name": "stdout",
     "output_type": "stream",
     "text": [
      "CPU times: user 1.32 s, sys: 464 ms, total: 1.78 s\n",
      "Wall time: 4.12 s\n"
     ]
    }
   ],
   "source": [
    "%%time\n",
    "radar0 = pyart.io.read(paths[0])\n",
    "netcdf=False\n",
    "gage_dict={}\n",
    "for gage_name in gage_names:\n",
    "    if netcdf:\n",
    "        latitude = ds_gage.lat.sel(station=gage_name).values\n",
    "        longitude = ds_gage.lon.sel(station=gage_name).values\n",
    "    else:\n",
    "        latitude = gage_df.loc[gage_name, 'lat']\n",
    "        longitude = gage_df.loc[gage_name, 'lon']\n",
    "    x_disp, y_disp = find_x_y_displacement(radar0, longitude, latitude)\n",
    "    gage_dict.update({gage_name: {'x_disp': x_disp, 'y_disp': y_disp}})"
   ]
  },
  {
   "cell_type": "code",
   "execution_count": 14,
   "metadata": {
    "collapsed": true
   },
   "outputs": [],
   "source": [
    "fields = ['r_z']\n",
    "cols = ['gate_lon', 'gate_lat', 'gate_altitude']\n",
    "cols.extend(fields)"
   ]
  },
  {
   "cell_type": "code",
   "execution_count": 15,
   "metadata": {
    "collapsed": false
   },
   "outputs": [
    {
     "name": "stdout",
     "output_type": "stream",
     "text": [
      "('processing', './tmp/KLWX20151119_155848_V06.gz')\n"
     ]
    },
    {
     "name": "stderr",
     "output_type": "stream",
     "text": [
      "/home/jsignell/miniconda2/envs/radar/lib/python2.7/site-packages/numpy/ma/core.py:4144: UserWarning: Warning: converting a masked element to nan.\n",
      "  warnings.warn(\"Warning: converting a masked element to nan.\")\n"
     ]
    },
    {
     "name": "stdout",
     "output_type": "stream",
     "text": [
      "('processing', './tmp/KLWX20151119_160345_V06.gz')\n",
      "('processing', './tmp/KLWX20151119_160842_V06.gz')\n",
      "('processing', './tmp/KLWX20151119_161339_V06.gz')\n",
      "('processing', './tmp/KLWX20151119_161837_V06.gz')\n",
      "('processing', './tmp/KLWX20151119_162333_V06.gz')\n",
      "('processing', './tmp/KLWX20151119_162831_V06.gz')\n",
      "('processing', './tmp/KLWX20151119_163328_V06.gz')\n",
      "('processing', './tmp/KLWX20151119_163825_V06.gz')\n",
      "('processing', './tmp/KLWX20151119_164323_V06.gz')\n",
      "('processing', './tmp/KLWX20151119_164820_V06.gz')\n",
      "('processing', './tmp/KLWX20151119_165317_V06.gz')\n",
      "('processing', './tmp/KLWX20151119_165815_V06.gz')\n",
      "('processing', './tmp/KLWX20151119_170312_V06.gz')\n",
      "('processing', './tmp/KLWX20151119_170810_V06.gz')\n",
      "('processing', './tmp/KLWX20151119_171334_V06.gz')\n",
      "('processing', './tmp/KLWX20151119_171925_V06.gz')\n",
      "('processing', './tmp/KLWX20151119_172450_V06.gz')\n",
      "('processing', './tmp/KLWX20151119_173041_V06.gz')\n",
      "('processing', './tmp/KLWX20151119_173634_V06.gz')\n",
      "('processing', './tmp/KLWX20151119_174226_V06.gz')\n",
      "('processing', './tmp/KLWX20151119_174819_V06.gz')\n",
      "('processing', './tmp/KLWX20151119_175411_V06.gz')\n",
      "('processing', './tmp/KLWX20151119_180003_V06.gz')\n",
      "('processing', './tmp/KLWX20151119_180555_V06.gz')\n",
      "('processing', './tmp/KLWX20151119_181147_V06.gz')\n",
      "('processing', './tmp/KLWX20151119_181739_V06.gz')\n",
      "('processing', './tmp/KLWX20151119_182330_V06.gz')\n",
      "('processing', './tmp/KLWX20151119_182923_V06.gz')\n",
      "('processing', './tmp/KLWX20151119_183514_V06.gz')\n",
      "('processing', './tmp/KLWX20151119_184038_V06.gz')\n",
      "('processing', './tmp/KLWX20151119_184602_V06.gz')\n",
      "('processing', './tmp/KLWX20151119_185127_V06.gz')\n",
      "('processing', './tmp/KLWX20151119_185652_V06.gz')\n",
      "('processing', './tmp/KLWX20151119_190216_V06.gz')\n",
      "('processing', './tmp/KLWX20151119_190739_V06.gz')\n",
      "('processing', './tmp/KLWX20151119_191304_V06.gz')\n",
      "('processing', './tmp/KLWX20151119_191855_V06.gz')\n",
      "('processing', './tmp/KLWX20151119_192420_V06.gz')\n",
      "('processing', './tmp/KLWX20151119_192944_V06.gz')\n",
      "('processing', './tmp/KLWX20151119_193508_V06.gz')\n",
      "('processing', './tmp/KLWX20151119_194101_V06.gz')\n",
      "('processing', './tmp/KLWX20151119_194653_V06.gz')\n",
      "('processing', './tmp/KLWX20151119_195246_V06.gz')\n",
      "('processing', './tmp/KLWX20151119_195837_V06.gz')\n",
      "('processing', './tmp/KLWX20151119_200428_V06.gz')\n",
      "('processing', './tmp/KLWX20151119_200952_V06.gz')\n",
      "('processing', './tmp/KLWX20151119_201516_V06.gz')\n",
      "('processing', './tmp/KLWX20151119_202041_V06.gz')\n",
      "('processing', './tmp/KLWX20151119_202605_V06.gz')\n",
      "('processing', './tmp/KLWX20151119_203129_V06.gz')\n",
      "('processing', './tmp/KLWX20151119_203654_V06.gz')\n",
      "('processing', './tmp/KLWX20151119_204217_V06.gz')\n",
      "('processing', './tmp/KLWX20151119_204741_V06.gz')\n",
      "('processing', './tmp/KLWX20151119_205238_V06.gz')\n",
      "('processing', './tmp/KLWX20151119_205735_V06.gz')\n",
      "('processing', './tmp/KLWX20151119_210233_V06.gz')\n",
      "('processing', './tmp/KLWX20151119_210730_V06.gz')\n",
      "('processing', './tmp/KLWX20151119_211227_V06.gz')\n",
      "('processing', './tmp/KLWX20151119_211724_V06.gz')\n",
      "('processing', './tmp/KLWX20151119_212221_V06.gz')\n",
      "('processing', './tmp/KLWX20151119_212719_V06.gz')\n",
      "('processing', './tmp/KLWX20151119_213217_V06.gz')\n",
      "('processing', './tmp/KLWX20151119_213713_V06.gz')\n",
      "('processing', './tmp/KLWX20151119_214211_V06.gz')\n",
      "('processing', './tmp/KLWX20151119_214708_V06.gz')\n",
      "('processing', './tmp/KLWX20151119_215205_V06.gz')\n",
      "('processing', './tmp/KLWX20151119_215703_V06.gz')\n",
      "('processing', './tmp/KLWX20151119_220200_V06.gz')\n",
      "('processing', './tmp/KLWX20151119_220906_V06.gz')\n",
      "('processing', './tmp/KLWX20151119_221404_V06.gz')\n",
      "('processing', './tmp/KLWX20151119_221901_V06.gz')\n",
      "('processing', './tmp/KLWX20151119_222358_V06.gz')\n",
      "('processing', './tmp/KLWX20151119_222856_V06.gz')\n",
      "('processing', './tmp/KLWX20151119_223353_V06.gz')\n",
      "('processing', './tmp/KLWX20151119_223851_V06.gz')\n",
      "('processing', './tmp/KLWX20151119_224348_V06.gz')\n",
      "('processing', './tmp/KLWX20151119_224845_V06.gz')\n",
      "('processing', './tmp/KLWX20151119_225343_V06.gz')\n"
     ]
    },
    {
     "data": {
      "text/plain": [
       "<xarray.Dataset>\n",
       "Dimensions:        (station: 46, time: 79)\n",
       "Coordinates:\n",
       "  * station        (station) object 'BC21' 'BC22' 'BC23' 'BC24' 'BC25' ...\n",
       "  * time           (time) datetime64[ns] 2015-11-19T15:59:19.805000 ...\n",
       "    gate_altitude  (station, time) float64 1.421e+03 1.421e+03 1.421e+03 ...\n",
       "    gate_lat       (station, time) float64 -76.51 -76.51 -76.51 -76.51 ...\n",
       "    gate_lon       (station, time) float64 39.24 39.24 39.24 39.24 39.24 ...\n",
       "Data variables:\n",
       "    r_z            (station, time) float64 0.8113 0.03565 nan 0.02786 nan ..."
      ]
     },
     "execution_count": 15,
     "metadata": {},
     "output_type": "execute_result"
    }
   ],
   "source": [
    "sweep_times = []\n",
    "sweep_stacks = []\n",
    "for path in paths:\n",
    "    print('processing', path)\n",
    "    radar = process_radar(path)\n",
    "    base_time = pd.Timestamp(radar.time['units'].split()[2])\n",
    "    for sweep in range(radar.nsweeps):\n",
    "        end_sweep_time = pd.Timedelta(seconds=radar.time['data'][radar.get_end(sweep)])+base_time\n",
    "        gate_x, gate_y, gate_z = radar.get_gate_x_y_z(sweep)\n",
    "        sweep_times.append(end_sweep_time)\n",
    "        \n",
    "        b = []\n",
    "        for gage_name in gage_names:\n",
    "            distances = np.sqrt((gate_x-gage_dict[gage_name]['x_disp'])**2. + \n",
    "                                (gate_y-gage_dict[gage_name]['y_disp'])**2.)\n",
    "            ray, gate = np.unravel_index(distances.argmin(), distances.shape)\n",
    "\n",
    "            a = np.array([radar.gate_latitude['data'][ray, gate],\n",
    "                          radar.gate_longitude['data'][ray, gate],\n",
    "                          radar.gate_altitude['data'][ray, gate]])\n",
    "            a = np.concatenate([a, [radar.fields[field]['data'][ray, gate] for field in fields]])\n",
    "            b.append(a)\n",
    "        sweep_stacks.append(np.stack(b, axis=1))\n",
    "c = np.stack(sweep_stacks, axis=2)\n",
    "\n",
    "d = {'time': {'dims': ('time'), 'data': sweep_times},\n",
    "     'station': {'dims': ('station'), 'data': gage_names}}\n",
    "\n",
    "for i, name in enumerate(cols):\n",
    "    d.update({name: {'dims': ('station', 'time'), 'data': c[i]}})\n",
    "ds_radar = xr.Dataset.from_dict(d)\n",
    "ds_radar.set_coords(['gate_altitude', 'gate_lat', 'gate_lon'], inplace=True)"
   ]
  },
  {
   "cell_type": "code",
   "execution_count": 16,
   "metadata": {
    "collapsed": false
   },
   "outputs": [
    {
     "name": "stdout",
     "output_type": "stream",
     "text": [
      "CPU times: user 54.6 ms, sys: 3.18 ms, total: 57.8 ms\n",
      "Wall time: 447 ms\n"
     ]
    }
   ],
   "source": [
    "%%time\n",
    "ds_radar_5 = ds_radar[fields].resample('5min', 'time', label='right')"
   ]
  },
  {
   "cell_type": "code",
   "execution_count": 17,
   "metadata": {
    "collapsed": false
   },
   "outputs": [],
   "source": [
    "radar_df = ds_radar_5.r_z.mean('station').to_dataframe()"
   ]
  },
  {
   "cell_type": "markdown",
   "metadata": {},
   "source": [
    "## Different time zone options:\n",
    "[UTC](#UTC) | [US/Eastern](#US/Eastern) | [EST](#EST)"
   ]
  },
  {
   "cell_type": "code",
   "execution_count": 23,
   "metadata": {
    "collapsed": true
   },
   "outputs": [],
   "source": [
    "%matplotlib inline\n",
    "import matplotlib.pyplot as plt"
   ]
  },
  {
   "cell_type": "markdown",
   "metadata": {},
   "source": [
    "### UTC"
   ]
  },
  {
   "cell_type": "code",
   "execution_count": 25,
   "metadata": {
    "collapsed": false
   },
   "outputs": [
    {
     "data": {
      "image/png": "[encoded data removed]",
      "text/plain": [
       "<matplotlib.figure.Figure at 0x7f6a32284cd0>"
      ]
     },
     "metadata": {},
     "output_type": "display_data"
    }
   ],
   "source": [
    "radar_df.join(mean_gage).plot(secondary_y='gage')\n",
    "plt.savefig('tmp/UTC_{storm}.png'.format(storm=t_start[:10]))"
   ]
  },
  {
   "cell_type": "markdown",
   "metadata": {},
   "source": [
    "### US/Eastern"
   ]
  },
  {
   "cell_type": "code",
   "execution_count": 26,
   "metadata": {
    "collapsed": false
   },
   "outputs": [
    {
     "data": {
      "image/png": "[encoded data removed]",
      "text/plain": [
       "<matplotlib.figure.Figure at 0x7f6a3230b650>"
      ]
     },
     "metadata": {},
     "output_type": "display_data"
    }
   ],
   "source": [
    "mean_gage.index+=pd.Timedelta(hours=4)\n",
    "radar_df.join(mean_gage).plot(secondary_y='gage')\n",
    "mean_gage.index-=pd.Timedelta(hours=4)\n",
    "plt.savefig('tmp/US_Eastern_{storm}.png'.format(storm=t_start[:10]))"
   ]
  },
  {
   "cell_type": "markdown",
   "metadata": {},
   "source": [
    "### EST"
   ]
  },
  {
   "cell_type": "code",
   "execution_count": 27,
   "metadata": {
    "collapsed": false
   },
   "outputs": [
    {
     "data": {
      "image/png": "[encoded data removed]",
      "text/plain": [
       "<matplotlib.figure.Figure at 0x7f6a30f4b710>"
      ]
     },
     "metadata": {},
     "output_type": "display_data"
    }
   ],
   "source": [
    "mean_gage.index+=pd.Timedelta(hours=5)\n",
    "radar_df.join(mean_gage).plot(secondary_y='gage')\n",
    "mean_gage.index-=pd.Timedelta(hours=5)\n",
    "plt.savefig('tmp/EST_{storm}.png'.format(storm=t_start[:10]))"
   ]
  },
  {
   "cell_type": "markdown",
   "metadata": {},
   "source": [
    "Clean up and remove cached radar files"
   ]
  },
  {
   "cell_type": "code",
   "execution_count": 28,
   "metadata": {
    "collapsed": true
   },
   "outputs": [],
   "source": [
    "!rm tmp/K*"
   ]
  },
  {
   "cell_type": "markdown",
   "metadata": {},
   "source": [
    "## Functions\n",
    "Run the cell below, then [hop back up](#Run) and process all the files."
   ]
  },
  {
   "cell_type": "code",
   "execution_count": 12,
   "metadata": {
    "collapsed": false
   },
   "outputs": [],
   "source": [
    "def process_radar(path):\n",
    "    radar = pyart.io.read(path)\n",
    "    radar, start_gate, end_gate = mask_data(radar)\n",
    "    radar, vel_radar = separate_dp_vel_sweeps(radar)\n",
    "    calculate_rainfall(radar, start_gate, end_gate)\n",
    "    return radar\n",
    "\n",
    "def mask_data(radar, max_elevation_angle=0.6, min_dist_km=5, max_dist_km=300):\n",
    "    # We just want the lowest sweeps and the gates at which we can reasonably have good data\n",
    "    low_sweeps = [i for i, bool in enumerate(radar.fixed_angle['data']<max_elevation_angle) if bool]\n",
    "    radar = radar.extract_sweeps(low_sweeps)\n",
    "\n",
    "    if radar.range['units'] == 'meters':\n",
    "        start_gate = (radar.range['data']< min_dist_km*1000).sum()\n",
    "        end_gate = (radar.range['data']< max_dist_km*1000).sum()\n",
    "\n",
    "    for field in radar.fields.keys():\n",
    "        radar.fields[field]['data'].mask[:,:start_gate] = True\n",
    "    return radar, start_gate, end_gate\n",
    "\n",
    "def separate_dp_vel_sweeps(radar):\n",
    "    # check that adjoining times are close?\n",
    "    dp_sweeps = [i for i in range(radar.nsweeps) if ~radar.extract_sweeps([i]).fields['differential_phase']['data'].mask.all()]\n",
    "    vel_sweeps = [i for i in range(radar.nsweeps) if ~radar.extract_sweeps([i]).fields['velocity']['data'].mask.all()]\n",
    "\n",
    "    vel_radar = radar.extract_sweeps(vel_sweeps)\n",
    "    dp_radar = radar.extract_sweeps(dp_sweeps)\n",
    "    \n",
    "    return dp_radar, vel_radar\n",
    "\n",
    "def add_field_to_radar_object(field, radar, field_name='FH', units='unitless', \n",
    "                              long_name='Hydrometeor ID', standard_name='Hydrometeor ID',\n",
    "                              dz_field='reflectivity'):\n",
    "    \"\"\"\n",
    "    Adds a newly created field to the Py-ART radar object. If reflectivity is a masked array,\n",
    "    make the new field masked the same as reflectivity.\n",
    "    \"\"\"\n",
    "    fill_value = -32768\n",
    "    masked_field = np.ma.asanyarray(field)\n",
    "    masked_field.mask = masked_field == fill_value\n",
    "    if hasattr(radar.fields[dz_field]['data'], 'mask'):\n",
    "        setattr(masked_field, 'mask', \n",
    "                np.logical_or(masked_field.mask, radar.fields[dz_field]['data'].mask))\n",
    "        fill_value = radar.fields[dz_field]['_FillValue']\n",
    "    field_dict = {'data': masked_field,\n",
    "                  'units': units,\n",
    "                  'long_name': long_name,\n",
    "                  'standard_name': standard_name,\n",
    "                  '_FillValue': fill_value}\n",
    "    radar.add_field(field_name, field_dict, replace_existing=True)\n",
    "    return radar\n",
    "\n",
    "def extract_unmasked_data(radar, field, bad=-32768):\n",
    "    \"\"\"Simplify getting unmasked radar fields from Py-ART\"\"\"\n",
    "    return radar.fields[field]['data'].filled(fill_value=bad)\n",
    "\n",
    "def calculate_rainfall(radar, start_gate, end_gate):\n",
    "    dz = extract_unmasked_data(radar, 'reflectivity')\n",
    "    r_z = csu_blended_rain.calc_rain_nexrad(dz)\n",
    "    radar = add_field_to_radar_object(r_z, radar, field_name='r_z', units='mm h-1',\n",
    "                                      long_name='Rainfall Rate R(Z)', \n",
    "                                      standard_name='Rainfall Rate')\n",
    "    return radar\n",
    "\n",
    "def find_x_y_displacement(radar, longitude, latitude):\n",
    "    \"\"\" Return the x and y displacement (in meters) from a radar location. \"\"\"\n",
    "    # longitude and latitude in degrees\n",
    "    lat_0 = radar.latitude['data'][0]\n",
    "    lon_0 = radar.longitude['data'][0]\n",
    "    proj = pyproj.Proj(proj='aeqd', lon_0=lon_0, lat_0=lat_0)\n",
    "    return proj(longitude, latitude)"
   ]
  },
  {
   "cell_type": "markdown",
   "metadata": {},
   "source": [
    "[hop back up](#Run) and process all the files."
   ]
  }
 ],
 "metadata": {
  "kernelspec": {
   "display_name": "Python 3",
   "language": "python",
   "name": "python3"
  },
  "language_info": {
   "codemirror_mode": {
    "name": "ipython",
    "version": 3
   },
   "file_extension": ".py",
   "mimetype": "text/x-python",
   "name": "python",
   "nbconvert_exporter": "python",
   "pygments_lexer": "ipython3",
   "version": "3.5.2"
  }
 },
 "nbformat": 4,
 "nbformat_minor": 0
}
