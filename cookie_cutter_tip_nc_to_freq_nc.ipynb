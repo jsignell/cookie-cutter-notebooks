{
 "cells": [
  {
   "cell_type": "markdown",
   "metadata": {},
   "source": [
    "Assuming you have already got your tip data in netcdf files created using the **`cookie_cutter_tip_csv_to_tip_csv`** notebook, then you should be able to easily convert to freq using the functions contained in **`tip_nc_to_freq_nc.py`**. This particular example is very straightforward. "
   ]
  },
  {
   "cell_type": "code",
   "execution_count": 1,
   "metadata": {
    "collapsed": false
   },
   "outputs": [],
   "source": [
    "import os\n",
    "import numpy as np\n",
    "import pandas as pd\n",
    "import xarray as xr\n",
    "\n",
    "from tip_nc_to_freq_nc import freq_from_tips"
   ]
  },
  {
   "cell_type": "markdown",
   "metadata": {},
   "source": [
    "You need to know where your data are stored and have a rain gage network name that you are going to use as a label for the resultant frequency netcdf file."
   ]
  },
  {
   "cell_type": "code",
   "execution_count": 2,
   "metadata": {
    "collapsed": true
   },
   "outputs": [],
   "source": [
    "DATA_DIR = '/home/jsignell/data/ShortCreek/'\n",
    "RGN = 'Short_Creek'"
   ]
  },
  {
   "cell_type": "markdown",
   "metadata": {},
   "source": [
    "Now this is proabably the trickiest bit if you don't have your data structured in some reasonable way, then you can walk down from your **`DATA_DIR`** and find all the directories which have files in them that end with **`_tip.nc`**. keep track of these files and the path that points to them. For instance the following cell creates a list of paths that have tip files in them, and a list of lists of filenames. One filename list corresponds to each path."
   ]
  },
  {
   "cell_type": "code",
   "execution_count": 3,
   "metadata": {
    "collapsed": false
   },
   "outputs": [],
   "source": [
    "paths = []\n",
    "filenames = []\n",
    "for path, dirs, files in os.walk(DATA_DIR):\n",
    "    fs = [file for file in files if file.endswith('_tip.nc')]\n",
    "    if len(fs) > 0:\n",
    "        paths.append(path)\n",
    "        filenames.append(fs)"
   ]
  },
  {
   "cell_type": "markdown",
   "metadata": {},
   "source": [
    "If you are unsure what just happened, just print out the first item in paths, and the first item in filenames. Then run the cell below, making sure that you have the frequency that you want and that the save path is correct."
   ]
  },
  {
   "cell_type": "code",
   "execution_count": 4,
   "metadata": {
    "collapsed": false
   },
   "outputs": [],
   "source": [
    "for path, files in zip(paths, filenames):\n",
    "    ds = freq_from_tips(\n",
    "                        path,\n",
    "                        files,\n",
    "                        freq='5min',\n",
    "                        buffer='1H',\n",
    "                        )\n",
    "    save_path = '{path}/{RGN}_freq.nc'.format(path=path, RGN=RGN)\n",
    "    ds.to_netcdf(save_path, format='netCDF4', engine='h5netcdf')"
   ]
  },
  {
   "cell_type": "markdown",
   "metadata": {},
   "source": [
    "That's it!"
   ]
  }
 ],
 "metadata": {
  "kernelspec": {
   "display_name": "Python 3",
   "language": "python",
   "name": "python3"
  },
  "language_info": {
   "codemirror_mode": {
    "name": "ipython",
    "version": 3
   },
   "file_extension": ".py",
   "mimetype": "text/x-python",
   "name": "python",
   "nbconvert_exporter": "python",
   "pygments_lexer": "ipython3",
   "version": "3.5.2"
  }
 },
 "nbformat": 4,
 "nbformat_minor": 0
}
