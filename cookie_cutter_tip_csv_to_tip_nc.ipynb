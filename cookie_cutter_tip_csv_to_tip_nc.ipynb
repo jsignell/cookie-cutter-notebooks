{
 "cells": [
  {
   "cell_type": "markdown",
   "metadata": {},
   "source": [
    "## 1. Inspect file\n",
    "If there is going to be something strange in the data you can bet it'll be in the beginning or end. So we will look at those first to try to spot stupid stuff."
   ]
  },
  {
   "cell_type": "code",
   "execution_count": null,
   "metadata": {
    "collapsed": false
   },
   "outputs": [],
   "source": [
    "!head -4 /home/jsignell/data/ShortCreek/Aug2016/CaneBeds.txt"
   ]
  },
  {
   "cell_type": "code",
   "execution_count": null,
   "metadata": {
    "collapsed": false
   },
   "outputs": [],
   "source": [
    "!tail -4 /home/jsignell/data/ShortCreek/Aug2016/CaneBeds.txt"
   ]
  },
  {
   "cell_type": "markdown",
   "metadata": {},
   "source": [
    "## 2. Read data into pandas.Dataframe object\n",
    "This is probably the most iterative step. By the end you want a time parsed and indexed dataframe"
   ]
  },
  {
   "cell_type": "code",
   "execution_count": 1,
   "metadata": {
    "collapsed": false
   },
   "outputs": [],
   "source": [
    "import os\n",
    "import pandas as pd\n",
    "import xarray as xr"
   ]
  },
  {
   "cell_type": "code",
   "execution_count": 2,
   "metadata": {
    "collapsed": true
   },
   "outputs": [],
   "source": [
    "DATA_DIR = '/home/jsignell/data/ShortCreek/'"
   ]
  },
  {
   "cell_type": "code",
   "execution_count": 3,
   "metadata": {
    "collapsed": true
   },
   "outputs": [],
   "source": [
    "f = DATA_DIR+'Aug2016/CaneBeds.txt'"
   ]
  },
  {
   "cell_type": "code",
   "execution_count": 4,
   "metadata": {
    "collapsed": false
   },
   "outputs": [
    {
     "data": {
      "text/html": [
       "<div>\n",
       "<table border=\"1\" class=\"dataframe\">\n",
       "  <thead>\n",
       "    <tr style=\"text-align: right;\">\n",
       "      <th></th>\n",
       "      <th>inches</th>\n",
       "    </tr>\n",
       "    <tr>\n",
       "      <th>time</th>\n",
       "      <th></th>\n",
       "    </tr>\n",
       "  </thead>\n",
       "  <tbody>\n",
       "    <tr>\n",
       "      <th>2016-07-12 14:22:32</th>\n",
       "      <td>9.76</td>\n",
       "    </tr>\n",
       "    <tr>\n",
       "      <th>2016-07-13 02:22:33</th>\n",
       "      <td>9.76</td>\n",
       "    </tr>\n",
       "    <tr>\n",
       "      <th>2016-07-13 14:22:34</th>\n",
       "      <td>9.76</td>\n",
       "    </tr>\n",
       "    <tr>\n",
       "      <th>2016-07-14 02:22:35</th>\n",
       "      <td>9.76</td>\n",
       "    </tr>\n",
       "    <tr>\n",
       "      <th>2016-07-14 14:22:35</th>\n",
       "      <td>9.76</td>\n",
       "    </tr>\n",
       "  </tbody>\n",
       "</table>\n",
       "</div>"
      ],
      "text/plain": [
       "                     inches\n",
       "time                       \n",
       "2016-07-12 14:22:32    9.76\n",
       "2016-07-13 02:22:33    9.76\n",
       "2016-07-13 14:22:34    9.76\n",
       "2016-07-14 02:22:35    9.76\n",
       "2016-07-14 14:22:35    9.76"
      ]
     },
     "execution_count": 4,
     "metadata": {},
     "output_type": "execute_result"
    }
   ],
   "source": [
    "gage = pd.read_csv(f, delim_whitespace=True, skiprows=1, usecols=[0,1,2],\n",
    "                   parse_dates=[['Date', 'Time']], index_col=0)\n",
    "gage.index.name = 'time'\n",
    "gage = gage.sort_index()\n",
    "gage.head()"
   ]
  },
  {
   "cell_type": "markdown",
   "metadata": {},
   "source": [
    "This accumulation is a cumulative sum in inches. We would prefer it to be in mm, and the accumulation between time steps only."
   ]
  },
  {
   "cell_type": "code",
   "execution_count": 5,
   "metadata": {
    "collapsed": true
   },
   "outputs": [],
   "source": [
    "gage = gage.diff()\n",
    "gage *= 25.4"
   ]
  },
  {
   "cell_type": "markdown",
   "metadata": {},
   "source": [
    "Be sure to hold on to any information conveyed in the first line of the file. We will look into this in more detail later."
   ]
  },
  {
   "cell_type": "code",
   "execution_count": 6,
   "metadata": {
    "collapsed": false
   },
   "outputs": [
    {
     "data": {
      "text/plain": [
       "'Sensor # 7444  Cane Beds Precipitation_Gage \\n'"
      ]
     },
     "execution_count": 6,
     "metadata": {},
     "output_type": "execute_result"
    }
   ],
   "source": [
    "with open(f) as f0:\n",
    "    meta = f0.readlines()[0]\n",
    "meta"
   ]
  },
  {
   "cell_type": "markdown",
   "metadata": {},
   "source": [
    "### TZ"
   ]
  },
  {
   "cell_type": "code",
   "execution_count": 7,
   "metadata": {
    "collapsed": true
   },
   "outputs": [],
   "source": [
    "gage = gage.tz_localize('US/Arizona').tz_convert('UTC')"
   ]
  },
  {
   "cell_type": "markdown",
   "metadata": {},
   "source": [
    "### Inter-tip-time\n",
    "It is important to know the standard time between tips. We can normally get this by looking at the distribution of time intervals between tips. "
   ]
  },
  {
   "cell_type": "code",
   "execution_count": 8,
   "metadata": {
    "collapsed": false
   },
   "outputs": [
    {
     "data": {
      "text/plain": [
       "TimedeltaIndex(['0 days 12:00:01', '0 days 12:00:01', '0 days 12:00:01',\n",
       "                '0 days 12:00:00', '0 days 12:00:01', '1 days 00:00:02',\n",
       "                '0 days 12:00:01', '0 days 12:00:01', '0 days 12:00:01',\n",
       "                '0 days 12:00:01', '1 days 00:00:02', '0 days 12:00:01',\n",
       "                '0 days 12:00:01', '0 days 12:00:01', '0 days 12:00:01',\n",
       "                '0 days 12:00:01', '0 days 12:00:01', '0 days 12:00:01',\n",
       "                '0 days 12:00:01', '0 days 12:00:01', '0 days 12:00:01',\n",
       "                '0 days 12:00:01', '0 days 02:35:49', '0 days 09:24:12',\n",
       "                '0 days 12:00:00', '0 days 12:00:01', '0 days 12:00:01',\n",
       "                '0 days 12:00:01', '0 days 11:59:59', '0 days 12:00:01',\n",
       "                '0 days 12:00:01', '1 days 12:00:03', '0 days 12:00:01',\n",
       "                '0 days 06:36:22', '0 days 00:03:40', '0 days 00:03:36',\n",
       "                '0 days 01:04:47', '0 days 02:44:20', '0 days 01:27:16',\n",
       "                '0 days 12:00:01', '0 days 12:00:01', '0 days 12:00:01',\n",
       "                '0 days 04:51:05', '0 days 00:01:39', '0 days 00:11:24',\n",
       "                '0 days 00:04:50', '0 days 00:22:16', '0 days 00:09:35',\n",
       "                '0 days 00:09:38', '0 days 06:09:34', '0 days 12:00:00',\n",
       "                '0 days 12:00:01', '0 days 12:00:01', '0 days 03:24:22',\n",
       "                '0 days 01:13:02', '0 days 07:22:37', '0 days 12:00:01',\n",
       "                '0 days 12:00:01', '0 days 12:00:01', '0 days 01:21:45',\n",
       "                '0 days 08:07:32', '0 days 02:30:44', '0 days 12:00:01',\n",
       "                '0 days 11:59:59', '0 days 12:00:01', '0 days 12:00:00',\n",
       "                '0 days 12:00:01', '0 days 12:00:01', '0 days 12:00:01',\n",
       "                '0 days 12:00:01', '0 days 07:08:51', '0 days 04:51:10',\n",
       "                '0 days 02:35:11', '0 days 03:42:36', '0 days 05:42:14'],\n",
       "               dtype='timedelta64[ns]', freq=None)"
      ]
     },
     "execution_count": 8,
     "metadata": {},
     "output_type": "execute_result"
    }
   ],
   "source": [
    "pd.TimedeltaIndex(pd.np.diff(gage.index))"
   ]
  },
  {
   "cell_type": "markdown",
   "metadata": {},
   "source": [
    "## 3. Read locations into pandas.Dataframe object\n",
    "The locations can be wonky, but the files are small and locations matter a lot, so don't skimp on the data wrangling at this stage. "
   ]
  },
  {
   "cell_type": "code",
   "execution_count": 9,
   "metadata": {
    "collapsed": false
   },
   "outputs": [
    {
     "name": "stdout",
     "output_type": "stream",
     "text": [
      "\"Cane Beds\" 7444 36 57 09 – 112 57 34 5002 feet\r\n",
      "\"Short Creek @ Central\" 7455 36 59 48 – 112 58 32 4984 feet\r\n",
      "\"Moccasin\" 1595 36 54 21 – 112 45 18 5043 feet\r\n",
      "\"Craigs Knoll\" 7436 36 28 16 – 113 10 18 6589 feet\r\n"
     ]
    }
   ],
   "source": [
    "!head -4 /home/jsignell/data/ShortCreek/location.txt"
   ]
  },
  {
   "cell_type": "markdown",
   "metadata": {},
   "source": [
    "Ok well that is unreadable, because the columns are not separated at all really. This is a case where we need to do some maunal file editing. I added quotes around the station names. "
   ]
  },
  {
   "cell_type": "code",
   "execution_count": 10,
   "metadata": {
    "collapsed": false
   },
   "outputs": [
    {
     "name": "stdout",
     "output_type": "stream",
     "text": [
      "\"Cane Beds\" 7444 36 57 09 – 112 57 34 5002 feet\r\n",
      "\"Short Creek @ Central\" 7455 36 59 48 – 112 58 32 4984 feet\r\n",
      "\"Moccasin\" 1595 36 54 21 – 112 45 18 5043 feet\r\n",
      "\"Craigs Knoll\" 7436 36 28 16 – 113 10 18 6589 feet\r\n"
     ]
    }
   ],
   "source": [
    "!head -4 /home/jsignell/data/ShortCreek/location.txt"
   ]
  },
  {
   "cell_type": "code",
   "execution_count": 11,
   "metadata": {
    "collapsed": true
   },
   "outputs": [],
   "source": [
    "f = '/home/jsignell/data/ShortCreek/location.txt'"
   ]
  },
  {
   "cell_type": "code",
   "execution_count": 12,
   "metadata": {
    "collapsed": false
   },
   "outputs": [
    {
     "data": {
      "text/html": [
       "<div>\n",
       "<table border=\"1\" class=\"dataframe\">\n",
       "  <thead>\n",
       "    <tr style=\"text-align: right;\">\n",
       "      <th></th>\n",
       "      <th>0</th>\n",
       "      <th>1</th>\n",
       "      <th>2</th>\n",
       "      <th>3</th>\n",
       "      <th>4</th>\n",
       "      <th>5</th>\n",
       "      <th>6</th>\n",
       "      <th>7</th>\n",
       "      <th>8</th>\n",
       "      <th>9</th>\n",
       "      <th>10</th>\n",
       "    </tr>\n",
       "  </thead>\n",
       "  <tbody>\n",
       "    <tr>\n",
       "      <th>0</th>\n",
       "      <td>Cane Beds</td>\n",
       "      <td>7444</td>\n",
       "      <td>36</td>\n",
       "      <td>57</td>\n",
       "      <td>9</td>\n",
       "      <td>–</td>\n",
       "      <td>112</td>\n",
       "      <td>57</td>\n",
       "      <td>34</td>\n",
       "      <td>5002</td>\n",
       "      <td>feet</td>\n",
       "    </tr>\n",
       "    <tr>\n",
       "      <th>1</th>\n",
       "      <td>Short Creek @ Central</td>\n",
       "      <td>7455</td>\n",
       "      <td>36</td>\n",
       "      <td>59</td>\n",
       "      <td>48</td>\n",
       "      <td>–</td>\n",
       "      <td>112</td>\n",
       "      <td>58</td>\n",
       "      <td>32</td>\n",
       "      <td>4984</td>\n",
       "      <td>feet</td>\n",
       "    </tr>\n",
       "    <tr>\n",
       "      <th>2</th>\n",
       "      <td>Moccasin</td>\n",
       "      <td>1595</td>\n",
       "      <td>36</td>\n",
       "      <td>54</td>\n",
       "      <td>21</td>\n",
       "      <td>–</td>\n",
       "      <td>112</td>\n",
       "      <td>45</td>\n",
       "      <td>18</td>\n",
       "      <td>5043</td>\n",
       "      <td>feet</td>\n",
       "    </tr>\n",
       "    <tr>\n",
       "      <th>3</th>\n",
       "      <td>Craigs Knoll</td>\n",
       "      <td>7436</td>\n",
       "      <td>36</td>\n",
       "      <td>28</td>\n",
       "      <td>16</td>\n",
       "      <td>–</td>\n",
       "      <td>113</td>\n",
       "      <td>10</td>\n",
       "      <td>18</td>\n",
       "      <td>6589</td>\n",
       "      <td>feet</td>\n",
       "    </tr>\n",
       "    <tr>\n",
       "      <th>4</th>\n",
       "      <td>SR389 @ Cedar Ridge</td>\n",
       "      <td>1694</td>\n",
       "      <td>36</td>\n",
       "      <td>52</td>\n",
       "      <td>53</td>\n",
       "      <td>–</td>\n",
       "      <td>112</td>\n",
       "      <td>53</td>\n",
       "      <td>47</td>\n",
       "      <td>5225</td>\n",
       "      <td>feet</td>\n",
       "    </tr>\n",
       "    <tr>\n",
       "      <th>5</th>\n",
       "      <td>Lost Spring Mountain</td>\n",
       "      <td>1549</td>\n",
       "      <td>36</td>\n",
       "      <td>57</td>\n",
       "      <td>5</td>\n",
       "      <td>–</td>\n",
       "      <td>113</td>\n",
       "      <td>10</td>\n",
       "      <td>1</td>\n",
       "      <td>5640</td>\n",
       "      <td>feet</td>\n",
       "    </tr>\n",
       "    <tr>\n",
       "      <th>6</th>\n",
       "      <td>Hurricane Cliffs</td>\n",
       "      <td>1604</td>\n",
       "      <td>36</td>\n",
       "      <td>30</td>\n",
       "      <td>21</td>\n",
       "      <td>–</td>\n",
       "      <td>113</td>\n",
       "      <td>18</td>\n",
       "      <td>22</td>\n",
       "      <td>6337</td>\n",
       "      <td>feet</td>\n",
       "    </tr>\n",
       "  </tbody>\n",
       "</table>\n",
       "</div>"
      ],
      "text/plain": [
       "                      0     1   2   3   4  5    6   7   8     9     10\n",
       "0              Cane Beds  7444  36  57   9  –  112  57  34  5002  feet\n",
       "1  Short Creek @ Central  7455  36  59  48  –  112  58  32  4984  feet\n",
       "2               Moccasin  1595  36  54  21  –  112  45  18  5043  feet\n",
       "3           Craigs Knoll  7436  36  28  16  –  113  10  18  6589  feet\n",
       "4    SR389 @ Cedar Ridge  1694  36  52  53  –  112  53  47  5225  feet\n",
       "5   Lost Spring Mountain  1549  36  57   5  –  113  10   1  5640  feet\n",
       "6       Hurricane Cliffs  1604  36  30  21  –  113  18  22  6337  feet"
      ]
     },
     "execution_count": 12,
     "metadata": {},
     "output_type": "execute_result"
    }
   ],
   "source": [
    "locs = pd.read_csv(f, delim_whitespace=True, nrows=7, header=None)\n",
    "locs"
   ]
  },
  {
   "cell_type": "markdown",
   "metadata": {},
   "source": [
    "Once you have figured out what all the columns are, assign them names."
   ]
  },
  {
   "cell_type": "code",
   "execution_count": 13,
   "metadata": {
    "collapsed": false
   },
   "outputs": [],
   "source": [
    "locs.columns = ['station_name', 'station',\n",
    "                'lat_deg', 'lat_min', 'lat_sec',\n",
    "                'foo',\n",
    "                'lon_deg', 'lon_min', 'lon_sec',\n",
    "                'elev', 'elev_units']"
   ]
  },
  {
   "cell_type": "markdown",
   "metadata": {},
   "source": [
    "Convert to decimal lat lon and make lon negative"
   ]
  },
  {
   "cell_type": "code",
   "execution_count": 14,
   "metadata": {
    "collapsed": false
   },
   "outputs": [],
   "source": [
    "locs['lat'] = locs.lat_deg + locs.lat_min/60. + locs.lat_sec/(60*60.)\n",
    "locs['lon'] = locs.lon_deg + locs.lon_min/60. + locs.lon_sec/(60*60.)\n",
    "\n",
    "locs['lon'] = -locs['lon']"
   ]
  },
  {
   "cell_type": "markdown",
   "metadata": {},
   "source": [
    "Convert altitude to meters"
   ]
  },
  {
   "cell_type": "code",
   "execution_count": 15,
   "metadata": {
    "collapsed": true
   },
   "outputs": [],
   "source": [
    "locs['elev'] = locs['elev']*0.3048"
   ]
  },
  {
   "cell_type": "markdown",
   "metadata": {},
   "source": [
    "Just take ths coordinate and station nomenclature"
   ]
  },
  {
   "cell_type": "code",
   "execution_count": 16,
   "metadata": {
    "collapsed": false
   },
   "outputs": [
    {
     "data": {
      "text/html": [
       "<div>\n",
       "<table border=\"1\" class=\"dataframe\">\n",
       "  <thead>\n",
       "    <tr style=\"text-align: right;\">\n",
       "      <th></th>\n",
       "      <th>station_name</th>\n",
       "      <th>lat</th>\n",
       "      <th>lon</th>\n",
       "      <th>elev</th>\n",
       "    </tr>\n",
       "    <tr>\n",
       "      <th>station</th>\n",
       "      <th></th>\n",
       "      <th></th>\n",
       "      <th></th>\n",
       "      <th></th>\n",
       "    </tr>\n",
       "  </thead>\n",
       "  <tbody>\n",
       "    <tr>\n",
       "      <th>7444</th>\n",
       "      <td>Cane Beds</td>\n",
       "      <td>36.952500</td>\n",
       "      <td>-112.959444</td>\n",
       "      <td>1524.6096</td>\n",
       "    </tr>\n",
       "    <tr>\n",
       "      <th>7455</th>\n",
       "      <td>Short Creek @ Central</td>\n",
       "      <td>36.996667</td>\n",
       "      <td>-112.975556</td>\n",
       "      <td>1519.1232</td>\n",
       "    </tr>\n",
       "    <tr>\n",
       "      <th>1595</th>\n",
       "      <td>Moccasin</td>\n",
       "      <td>36.905833</td>\n",
       "      <td>-112.755000</td>\n",
       "      <td>1537.1064</td>\n",
       "    </tr>\n",
       "    <tr>\n",
       "      <th>7436</th>\n",
       "      <td>Craigs Knoll</td>\n",
       "      <td>36.471111</td>\n",
       "      <td>-113.171667</td>\n",
       "      <td>2008.3272</td>\n",
       "    </tr>\n",
       "    <tr>\n",
       "      <th>1694</th>\n",
       "      <td>SR389 @ Cedar Ridge</td>\n",
       "      <td>36.881389</td>\n",
       "      <td>-112.896389</td>\n",
       "      <td>1592.5800</td>\n",
       "    </tr>\n",
       "    <tr>\n",
       "      <th>1549</th>\n",
       "      <td>Lost Spring Mountain</td>\n",
       "      <td>36.951389</td>\n",
       "      <td>-113.166944</td>\n",
       "      <td>1719.0720</td>\n",
       "    </tr>\n",
       "    <tr>\n",
       "      <th>1604</th>\n",
       "      <td>Hurricane Cliffs</td>\n",
       "      <td>36.505833</td>\n",
       "      <td>-113.306111</td>\n",
       "      <td>1931.5176</td>\n",
       "    </tr>\n",
       "  </tbody>\n",
       "</table>\n",
       "</div>"
      ],
      "text/plain": [
       "                  station_name        lat         lon       elev\n",
       "station                                                         \n",
       "7444                 Cane Beds  36.952500 -112.959444  1524.6096\n",
       "7455     Short Creek @ Central  36.996667 -112.975556  1519.1232\n",
       "1595                  Moccasin  36.905833 -112.755000  1537.1064\n",
       "7436              Craigs Knoll  36.471111 -113.171667  2008.3272\n",
       "1694       SR389 @ Cedar Ridge  36.881389 -112.896389  1592.5800\n",
       "1549      Lost Spring Mountain  36.951389 -113.166944  1719.0720\n",
       "1604          Hurricane Cliffs  36.505833 -113.306111  1931.5176"
      ]
     },
     "execution_count": 16,
     "metadata": {},
     "output_type": "execute_result"
    }
   ],
   "source": [
    "locs = locs[['station_name', 'station', 'lat', 'lon', 'elev']]\n",
    "locs.set_index('station', inplace=True)\n",
    "locs.index.name='station'\n",
    "locs"
   ]
  },
  {
   "cell_type": "markdown",
   "metadata": {},
   "source": [
    "## 4. Figure out how to join these two Dataframes"
   ]
  },
  {
   "cell_type": "code",
   "execution_count": 36,
   "metadata": {
    "collapsed": true
   },
   "outputs": [],
   "source": [
    "import datetime as dt"
   ]
  },
  {
   "cell_type": "code",
   "execution_count": 44,
   "metadata": {
    "collapsed": false
   },
   "outputs": [],
   "source": [
    "RGN = 'Short_Creek'\n",
    "site = 'Short Creek'\n",
    "\n",
    "units = 'mm'\n",
    "tz = 'storm_guessed'\n",
    "inter_tip_time = '12h'"
   ]
  },
  {
   "cell_type": "code",
   "execution_count": 46,
   "metadata": {
    "collapsed": false
   },
   "outputs": [
    {
     "data": {
      "text/plain": [
       "station_name    b'Cane Beds'\n",
       "lat                  36.9525\n",
       "lon                 -112.959\n",
       "elev                 1524.61\n",
       "Name: 7444, dtype: object"
      ]
     },
     "execution_count": 46,
     "metadata": {},
     "output_type": "execute_result"
    }
   ],
   "source": [
    "ID = int(meta.split()[2])\n",
    "locs.loc[ID]"
   ]
  },
  {
   "cell_type": "code",
   "execution_count": 47,
   "metadata": {
    "collapsed": false
   },
   "outputs": [
    {
     "name": "stderr",
     "output_type": "stream",
     "text": [
      "/home/jsignell/miniconda2/envs/cookie-cutter/lib/python3.5/site-packages/ipykernel/__main__.py:1: SettingWithCopyWarning: \n",
      "A value is trying to be set on a copy of a slice from a DataFrame.\n",
      "Try using .loc[row_indexer,col_indexer] = value instead\n",
      "\n",
      "See the caveats in the documentation: http://pandas.pydata.org/pandas-docs/stable/indexing.html#indexing-view-versus-copy\n",
      "  if __name__ == '__main__':\n"
     ]
    }
   ],
   "source": [
    "locs['station_name'] = locs['station_name'].astype(bytes)"
   ]
  },
  {
   "cell_type": "code",
   "execution_count": 48,
   "metadata": {
    "collapsed": false
   },
   "outputs": [],
   "source": [
    "coords = locs.to_xarray()"
   ]
  },
  {
   "cell_type": "code",
   "execution_count": 49,
   "metadata": {
    "collapsed": false,
    "scrolled": true
   },
   "outputs": [],
   "source": [
    "def write_tip_nc(path, file, coords):\n",
    "    f = os.path.join(path, file)\n",
    "    gage = pd.read_csv(f, delim_whitespace=True,\n",
    "                       skiprows=1, usecols=[0,1,2],\n",
    "                       parse_dates=[['Date', 'Time']], index_col=0)\n",
    "    gage.index.name = 'time'\n",
    "    gage = gage.sort_index()\n",
    "    gage = gage.diff()\n",
    "    gage *= 25.4\n",
    "    gage = gage.tz_localize('US/Arizona').tz_convert('UTC')\n",
    "\n",
    "    with open(f) as f0:\n",
    "        meta = f0.readlines()[0]\n",
    "    ID = int(meta.split()[2])\n",
    "\n",
    "    gage.index = gage.index.astype('datetime64[ns]')\n",
    "    da = xr.DataArray.from_dict({'data': gage.values, 'dims':('time', 'station'), \n",
    "                                 'coords': {'time': {'dims': 'time', 'data': gage.index},\n",
    "                                            'station': {'dims': 'station', 'data': [ID]}},\n",
    "                                 'name': 'rain_gage',\n",
    "                                 'attrs': {'units': units, 'standard_name': 'gage rain depth',\n",
    "                                           'tz': tz, 'inter_tip_time': inter_tip_time}})\n",
    "    ds = da.to_dataset()\n",
    "    ds_ = ds.merge(coords.sel(station=ID))\n",
    "    ds_.set_coords(['lon', 'lat', 'elev', 'station_name'], inplace=True)\n",
    "    ds_['station'] = ds_['station'].astype(bytes)\n",
    "    ds_\n",
    "\n",
    "    ds_.station.attrs.update({'standard_name': 'station_id', 'long_name': 'station ID', 'cf_role':'timeseries_id'})\n",
    "    ds_.station_name.attrs.update({'standard_name': 'station_name', 'long_name': 'station name'})\n",
    "    ds_.elev.attrs.update({'standard_name': 'elevation', 'long_name':'station elevation', 'units': 'm'})\n",
    "    ds_.lat.attrs.update({'standard_name': 'latitude', 'long_name':'station latitude', 'units': 'degrees_north'})\n",
    "    ds_.lon.attrs.update({'standard_name': 'longitude', 'long_name':'station longitude', 'units': 'degrees_east'})\n",
    "    ds_.time.encoding = {'units':'seconds since 1970-01-01', 'calendar':'gregorian', 'dtype': pd.np.double}\n",
    "\n",
    "\n",
    "    ds_.attrs.update({'description': '{site} rain gage network'.format(site=site),\n",
    "                      'history': 'Created {now}'.format(now=pd.datetime.now()),\n",
    "                      'Conventions': \"CF-1.6\",\n",
    "                      'featureType': 'timeSeries'})\n",
    "\n",
    "    fn = '{path}/{ID}_tip.nc'.format(path=path, ID=ID)\n",
    "    ds_.to_netcdf(fn, format='netCDF4', engine='h5netcdf')\n",
    "    return fn"
   ]
  },
  {
   "cell_type": "code",
   "execution_count": 50,
   "metadata": {
    "collapsed": false,
    "scrolled": true
   },
   "outputs": [
    {
     "name": "stdout",
     "output_type": "stream",
     "text": [
      "could not write location.txt\n",
      "not trying 7436_tip.nc\n",
      "not trying 1595_tip.nc\n",
      "not trying 7444_tip.nc\n",
      "not trying 1549_tip.nc\n",
      "not trying 7455_tip.nc\n",
      "not trying 1694_tip.nc\n",
      "not trying 1595_tip.nc\n",
      "not trying 1549_tip.nc\n",
      "not trying 7455_tip.nc\n",
      "not trying 09142015UtahCocorahs.xlsx\n",
      "not trying 7436_tip.nc\n",
      "not trying 1595_tip.nc\n",
      "not trying 1604_tip.nc\n",
      "not trying 7444_tip.nc\n",
      "not trying 1549_tip.nc\n",
      "not trying 7455_tip.nc\n",
      "not trying 1694_tip.nc\n",
      "not trying 1694_tip.nc\n",
      "not trying 1595_tip.nc\n",
      "not trying 7444_tip.nc\n",
      "not trying 1549_tip.nc\n",
      "not trying 7436_tip.nc\n",
      "not trying 7455_tip.nc\n",
      "not trying 7436_tip.nc\n",
      "not trying 1595_tip.nc\n",
      "not trying 7444_tip.nc\n",
      "not trying 1549_tip.nc\n",
      "not trying 7455_tip.nc\n",
      "not trying 1694_tip.nc\n"
     ]
    }
   ],
   "source": [
    "for path, dirs, files in os.walk(DATA_DIR):\n",
    "    for file in files:\n",
    "        if not file.endswith('.txt'):\n",
    "            print('not trying', file)\n",
    "            continue\n",
    "        try:\n",
    "            fn = write_tip_nc(path, file, coords)\n",
    "        except:\n",
    "            print('could not write', file)\n",
    "            continue       "
   ]
  },
  {
   "cell_type": "code",
   "execution_count": null,
   "metadata": {
    "collapsed": true
   },
   "outputs": [],
   "source": [
    "datasets = []\n",
    "for path, dirs, files in os.walk(DATA_DIR):\n",
    "    "
   ]
  },
  {
   "cell_type": "code",
   "execution_count": 52,
   "metadata": {
    "collapsed": true
   },
   "outputs": [],
   "source": [
    "fn = '/home/jsignell/data/ShortCreek/Sep2014/7436_tip.nc'"
   ]
  },
  {
   "cell_type": "code",
   "execution_count": 53,
   "metadata": {
    "collapsed": true
   },
   "outputs": [],
   "source": [
    "ds = xr.open_dataset(fn)"
   ]
  },
  {
   "cell_type": "code",
   "execution_count": 58,
   "metadata": {
    "collapsed": false
   },
   "outputs": [
    {
     "data": {
      "text/plain": [
       "Timedelta('0 days 12:00:00')"
      ]
     },
     "execution_count": 58,
     "metadata": {},
     "output_type": "execute_result"
    }
   ],
   "source": [
    "pd.Timedelta(ds.rain_gage.inter_tip_time)"
   ]
  },
  {
   "cell_type": "code",
   "execution_count": 60,
   "metadata": {
    "collapsed": false
   },
   "outputs": [
    {
     "data": {
      "text/plain": [
       "TimedeltaIndex(['02:00:03', '02:00:04', '02:00:03', '02:00:04', '04:00:07',\n",
       "                '02:00:04', '02:00:03', '02:00:04', '02:00:03', '02:00:04',\n",
       "                ...\n",
       "                '00:53:59', '01:40:15', '02:00:03', '02:00:04', '02:00:04',\n",
       "                '04:00:07', '02:00:03', '02:00:04', '02:00:03', '02:00:04'],\n",
       "               dtype='timedelta64[ns]', length=356, freq=None)"
      ]
     },
     "execution_count": 60,
     "metadata": {},
     "output_type": "execute_result"
    }
   ],
   "source": [
    "pd.TimedeltaIndex(ds.time.diff('time'))"
   ]
  },
  {
   "cell_type": "code",
   "execution_count": 63,
   "metadata": {
    "collapsed": false
   },
   "outputs": [],
   "source": [
    "inter_tip_time = pd.Timedelta(ds.rain_gage.inter_tip_time).asm8\n",
    "bool_array = ds.time.diff('time') > inter_tip_time\n",
    "\n",
    "ds.rain_gage[~bool_array].resample('5min', 'time', 'sum', 'right')"
   ]
  },
  {
   "cell_type": "code",
   "execution_count": 51,
   "metadata": {
    "collapsed": false
   },
   "outputs": [
    {
     "data": {
      "text/plain": [
       "[('/home/jsignell/data/ShortCreek/',\n",
       "  ['Sep2014', 'Jul2013', 'Sep2015', 'Jul2015', 'Aug2016'],\n",
       "  ['location.txt']),\n",
       " ('/home/jsignell/data/ShortCreek/Sep2014',\n",
       "  [],\n",
       "  ['CraigsKnoll.txt',\n",
       "   'Moccasin.txt',\n",
       "   'CaneBeds.txt',\n",
       "   'LostMountain.txt',\n",
       "   'ShortCreek.txt',\n",
       "   'CedarRidge.txt',\n",
       "   '7436_tip.nc',\n",
       "   '1595_tip.nc',\n",
       "   '7444_tip.nc',\n",
       "   '1549_tip.nc',\n",
       "   '7455_tip.nc',\n",
       "   '1694_tip.nc']),\n",
       " ('/home/jsignell/data/ShortCreek/Jul2013',\n",
       "  [],\n",
       "  ['Mocassin28July2013Storm.txt',\n",
       "   'LostSpringMountainRain28July2013.txt',\n",
       "   'ShortCreek28July2013Storm.txt',\n",
       "   '1595_tip.nc',\n",
       "   '1549_tip.nc',\n",
       "   '7455_tip.nc']),\n",
       " ('/home/jsignell/data/ShortCreek/Sep2015',\n",
       "  [],\n",
       "  ['09142015UtahCocorahs.xlsx',\n",
       "   'CraigsKnoll.txt',\n",
       "   'Mocassin.txt',\n",
       "   'HurricaneCliffs.txt',\n",
       "   'CaneBeds.txt',\n",
       "   'LostSpringMountain.txt',\n",
       "   'ShortCreek.txt',\n",
       "   'CedarRidge.txt',\n",
       "   '7436_tip.nc',\n",
       "   '1595_tip.nc',\n",
       "   '1604_tip.nc',\n",
       "   '7444_tip.nc',\n",
       "   '1549_tip.nc',\n",
       "   '7455_tip.nc',\n",
       "   '1694_tip.nc']),\n",
       " ('/home/jsignell/data/ShortCreek/Jul2015',\n",
       "  [],\n",
       "  ['CedarRidge18_19July2015Storm.txt',\n",
       "   'Mocassin18_19July2015Storm.txt',\n",
       "   'CaneBed18_19July2015Storm.txt',\n",
       "   'LostSpringMountain18_19July2015Storm.txt',\n",
       "   'CraigsKnoll_18_19July2015Storm.txt',\n",
       "   'ShortCreek18_19July2015Storm.txt',\n",
       "   '1694_tip.nc',\n",
       "   '1595_tip.nc',\n",
       "   '7444_tip.nc',\n",
       "   '1549_tip.nc',\n",
       "   '7436_tip.nc',\n",
       "   '7455_tip.nc']),\n",
       " ('/home/jsignell/data/ShortCreek/Aug2016',\n",
       "  [],\n",
       "  ['CraigsKnoll.txt',\n",
       "   'Mocassin.txt',\n",
       "   'CaneBeds.txt',\n",
       "   'LostMountain.txt',\n",
       "   'ShortCreek.txt',\n",
       "   'CedarRidge.txt',\n",
       "   '7436_tip.nc',\n",
       "   '1595_tip.nc',\n",
       "   '7444_tip.nc',\n",
       "   '1549_tip.nc',\n",
       "   '7455_tip.nc',\n",
       "   '1694_tip.nc'])]"
      ]
     },
     "execution_count": 51,
     "metadata": {},
     "output_type": "execute_result"
    }
   ],
   "source": [
    "list(os.walk(DATA_DIR))"
   ]
  },
  {
   "cell_type": "code",
   "execution_count": 99,
   "metadata": {
    "collapsed": false
   },
   "outputs": [],
   "source": [
    "datasets = []\n",
    "for path, dirs, files in os.walk(DATA_DIR):\n",
    "    obs = []\n",
    "    for file in files:\n",
    "        try:\n",
    "            ds = xr.open_dataset(os.path.join(path, file))\n",
    "            inter_tip_time = pd.Timedelta(ds.rain_gage.inter_tip_time).asm8\n",
    "            #TODO: figure out how to use this to check for missing values\n",
    "            bool_array = ds.time.diff('time') > inter_tip_time\n",
    "\n",
    "            ds = ds.resample('5min', 'time', 'sum', label='right')\n",
    "            ds = ds.fillna(0)\n",
    "            obs.append(ds)\n",
    "        except:\n",
    "            continue\n",
    "    # accumulate tips\n",
    "    #obs = [xr.open_dataset(os.path.join(path, f)) for f in files if f.endswith('.nc')]\n",
    "    if len(obs) > 0:\n",
    "        datasets.append(xr.concat(obs, 'station'))"
   ]
  },
  {
   "cell_type": "code",
   "execution_count": 100,
   "metadata": {
    "collapsed": false
   },
   "outputs": [],
   "source": [
    "ds = datasets[0]"
   ]
  },
  {
   "cell_type": "code",
   "execution_count": 101,
   "metadata": {
    "collapsed": false
   },
   "outputs": [
    {
     "data": {
      "image/png": "[encoded data removed]",
      "text/plain": [
       "<matplotlib.figure.Figure at 0x7f97776aff28>"
      ]
     },
     "metadata": {},
     "output_type": "display_data"
    }
   ],
   "source": [
    "%matplotlib inline\n",
    "ds['rain_gage'].mean('station').plot();"
   ]
  },
  {
   "cell_type": "code",
   "execution_count": 102,
   "metadata": {
    "collapsed": false
   },
   "outputs": [],
   "source": [
    "ds.close()"
   ]
  }
 ],
 "metadata": {
  "kernelspec": {
   "display_name": "Python 3",
   "language": "python",
   "name": "python3"
  },
  "language_info": {
   "codemirror_mode": {
    "name": "ipython",
    "version": 3
   },
   "file_extension": ".py",
   "mimetype": "text/x-python",
   "name": "python",
   "nbconvert_exporter": "python",
   "pygments_lexer": "ipython3",
   "version": "3.5.2"
  }
 },
 "nbformat": 4,
 "nbformat_minor": 0
}
